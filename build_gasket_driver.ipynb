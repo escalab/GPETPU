{
 "cells": [
  {
   "cell_type": "code",
   "execution_count": 2,
   "id": "b8911fc3-3cd5-4aff-8008-385df4b87552",
   "metadata": {},
   "outputs": [
    {
     "name": "stdout",
     "output_type": "stream",
     "text": [
      "make -C /lib/modules/4.15.0-118-generic/build M=/nfshome/khsu037/GPTPU.internal/gasket_driver/src modules\n",
      "make[1]: Entering directory '/usr/src/linux-headers-4.15.0-118-generic'\n",
      "  CC [M]  /nfshome/khsu037/GPTPU.internal/gasket_driver/src/gasket_core.o\n",
      "  CC [M]  /nfshome/khsu037/GPTPU.internal/gasket_driver/src/gasket_ioctl.o\n",
      "  CC [M]  /nfshome/khsu037/GPTPU.internal/gasket_driver/src/gasket_interrupt.o\n",
      "/nfshome/khsu037/GPTPU.internal/gasket_driver/src/gasket_interrupt.c: In function ‘gasket_interrupt_setup’:\n",
      "/nfshome/khsu037/GPTPU.internal/gasket_driver/src/gasket_interrupt.c:83:5: warning: ISO C90 forbids mixed declarations and code [-Wdeclaration-after-statement]\n",
      "     int i;\n",
      "     ^\n",
      "  CC [M]  /nfshome/khsu037/GPTPU.internal/gasket_driver/src/gasket_page_table.o\n",
      "  CC [M]  /nfshome/khsu037/GPTPU.internal/gasket_driver/src/gasket_sysfs.o\n",
      "  LD [M]  /nfshome/khsu037/GPTPU.internal/gasket_driver/src/gasket.o\n",
      "  CC [M]  /nfshome/khsu037/GPTPU.internal/gasket_driver/src/apex_driver.o\n",
      "  LD [M]  /nfshome/khsu037/GPTPU.internal/gasket_driver/src/apex.o\n",
      "  Building modules, stage 2.\n",
      "  MODPOST 2 modules\n",
      "  CC      /nfshome/khsu037/GPTPU.internal/gasket_driver/src/apex.mod.o\n",
      "  LD [M]  /nfshome/khsu037/GPTPU.internal/gasket_driver/src/apex.ko\n",
      "  CC      /nfshome/khsu037/GPTPU.internal/gasket_driver/src/gasket.mod.o\n",
      "  LD [M]  /nfshome/khsu037/GPTPU.internal/gasket_driver/src/gasket.ko\n",
      "make[1]: Leaving directory '/usr/src/linux-headers-4.15.0-118-generic'\n"
     ]
    }
   ],
   "source": [
    "! ssh khsu037@gengar \\\n",
    "\"cd GPTPU.internal/gasket_driver/src && make\""
   ]
  },
  {
   "cell_type": "code",
   "execution_count": 4,
   "id": "8b56ea64-c527-4149-84d9-2f6ec97b936d",
   "metadata": {},
   "outputs": [
    {
     "name": "stdout",
     "output_type": "stream",
     "text": [
      " dpkg-buildpackage -rfakeroot -D -us -uc -tc -b\n",
      "dpkg-buildpackage: source package gasket-dkms\n",
      "dpkg-buildpackage: source version 1.0-18\n",
      "dpkg-buildpackage: source distribution unstable\n",
      "dpkg-buildpackage: source changed by Coral <coral-support@google.com>\n",
      " dpkg-source --before-build gasket_driver\n",
      "dpkg-buildpackage: host architecture amd64\n",
      " fakeroot debian/rules clean\n",
      "dh clean --with dkms\n",
      "   dh_testdir\n",
      "   dh_clean\n",
      " debian/rules build\n",
      "dh build --with dkms\n",
      "   dh_testdir\n",
      "   dh_update_autotools_config\n",
      " fakeroot debian/rules binary\n",
      "dh binary --with dkms\n",
      "   dh_testroot\n",
      "   dh_prep\n",
      "   debian/rules override_dh_install\n",
      "make[1]: Entering directory '/nfshome/khsu037/GPTPU.internal/gasket_driver'\n",
      "dh_install src/* usr/src/gasket-1.0/\n",
      "make[1]: Leaving directory '/nfshome/khsu037/GPTPU.internal/gasket_driver'\n",
      "   dh_installdocs\n",
      "   dh_installchangelogs\n",
      "   debian/rules override_dh_dkms\n",
      "make[1]: Entering directory '/nfshome/khsu037/GPTPU.internal/gasket_driver'\n",
      "dh_dkms -V 1.0\n",
      "make[1]: Leaving directory '/nfshome/khsu037/GPTPU.internal/gasket_driver'\n",
      "   dh_installudev\n",
      "   dh_perl\n",
      "   dh_link\n",
      "   dh_strip_nondeterminism\n",
      "   dh_compress\n",
      "   dh_fixperms\n",
      "   dh_installdeb\n",
      "   dh_gencontrol\n",
      "   dh_md5sums\n",
      "   dh_builddeb\n",
      "dpkg-deb: building package 'gasket-dkms' in '../gasket-dkms_1.0-18_all.deb'.\n",
      " dpkg-genchanges -b >../gasket-dkms_1.0-18_amd64.changes\n",
      "dpkg-genchanges: binary-only upload (no source code included)\n",
      " fakeroot debian/rules clean\n",
      "dh clean --with dkms\n",
      "   dh_clean\n",
      " dpkg-source --after-build gasket_driver\n",
      "dpkg-buildpackage: binary-only upload (no source included)\n",
      "Now running lintian...\n",
      "E: gasket-dkms changes: bad-distribution-in-changes-file unstable\n",
      "E: gasket-dkms: arch-independent-package-contains-binary-or-object usr/src/gasket-1.0/apex.ko\n",
      "E: gasket-dkms: arch-independent-package-contains-binary-or-object usr/src/gasket-1.0/apex.mod.o\n",
      "E: gasket-dkms: arch-independent-package-contains-binary-or-object usr/src/gasket-1.0/apex.o\n",
      "E: gasket-dkms: arch-independent-package-contains-binary-or-object usr/src/gasket-1.0/apex_driver.o\n",
      "E: gasket-dkms: arch-independent-package-contains-binary-or-object usr/src/gasket-1.0/gasket.ko\n",
      "E: gasket-dkms: arch-independent-package-contains-binary-or-object usr/src/gasket-1.0/gasket.mod.o\n",
      "E: gasket-dkms: arch-independent-package-contains-binary-or-object usr/src/gasket-1.0/gasket.o\n",
      "E: gasket-dkms: arch-independent-package-contains-binary-or-object usr/src/gasket-1.0/gasket_core.o\n",
      "E: gasket-dkms: arch-independent-package-contains-binary-or-object usr/src/gasket-1.0/gasket_interrupt.o\n",
      "E: gasket-dkms: arch-independent-package-contains-binary-or-object usr/src/gasket-1.0/gasket_ioctl.o\n",
      "E: gasket-dkms: arch-independent-package-contains-binary-or-object usr/src/gasket-1.0/gasket_page_table.o\n",
      "E: gasket-dkms: arch-independent-package-contains-binary-or-object usr/src/gasket-1.0/gasket_sysfs.o\n",
      "Finished running lintian.\n"
     ]
    }
   ],
   "source": [
    "! ssh khsu037@gengar \\\n",
    "\"cd GPTPU.internal/gasket_driver ; \\\n",
    "debuild -us -uc -tc -b\""
   ]
  },
  {
   "cell_type": "code",
   "execution_count": 6,
   "id": "9c2a947a-2ac4-4ef4-9e37-ad6c7898c284",
   "metadata": {},
   "outputs": [
    {
     "name": "stdout",
     "output_type": "stream",
     "text": [
      "\n",
      "WARNING: apt does not have a stable CLI interface. Use with caution in scripts.\n",
      "\n",
      "E: Could not open lock file /var/lib/dpkg/lock-frontend - open (13: Permission denied)\n",
      "E: Unable to acquire the dpkg frontend lock (/var/lib/dpkg/lock-frontend), are you root?\n"
     ]
    }
   ],
   "source": [
    "! ssh khsu037@gengar \\\n",
    "\"cd GPTPU.internal ; \\\n",
    "apt install gasket-dkms_1.0-18_all.deb\""
   ]
  },
  {
   "cell_type": "code",
   "execution_count": null,
   "id": "a9503d10-cc25-4325-a7d5-95b926d327c2",
   "metadata": {},
   "outputs": [],
   "source": []
  }
 ],
 "metadata": {
  "kernelspec": {
   "display_name": "Python 3 (ipykernel)",
   "language": "python",
   "name": "python3"
  },
  "language_info": {
   "codemirror_mode": {
    "name": "ipython",
    "version": 3
   },
   "file_extension": ".py",
   "mimetype": "text/x-python",
   "name": "python",
   "nbconvert_exporter": "python",
   "pygments_lexer": "ipython3",
   "version": "3.8.10"
  }
 },
 "nbformat": 4,
 "nbformat_minor": 5
}
